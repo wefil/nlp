{
 "cells": [
  {
   "cell_type": "markdown",
   "metadata": {
    "colab": {
     "base_uri": "https://localhost:8080/"
    },
    "execution": {
     "iopub.execute_input": "2024-03-31T12:19:55.305924Z",
     "iopub.status.busy": "2024-03-31T12:19:55.305383Z",
     "iopub.status.idle": "2024-03-31T12:20:08.268844Z",
     "shell.execute_reply": "2024-03-31T12:20:08.267939Z",
     "shell.execute_reply.started": "2024-03-31T12:19:55.305892Z"
    },
    "id": "6rjS5Ovk0AsD",
    "outputId": "66ec1064-3124-4f85-e999-421f5508cea6"
   },
   "source": [
    "import pandas as pd\n",
    "import numpy as np\n",
    "import re\n",
    "from nltk.corpus import stopwords\n",
    "from nltk.tokenize import word_tokenize\n",
    "from gensim.models import Word2Vec\n",
    "import nltk\n",
    "from nltk.stem import WordNetLemmatizer\n",
    "\n",
    "\n",
    "nltk.download('stopwords')\n",
    "nltk.download('punkt')\n",
    "nltk.download('wordnet')\n",
    "\n",
    "\n",
    "data = pd.read_csv('../input/poetry-foundation-poems/PoetryFoundationData.csv')\n",
    "data = data.dropna()"
   ]
  },
  {
   "cell_type": "code",
   "execution_count": 2,
   "metadata": {
    "colab": {
     "base_uri": "https://localhost:8080/",
     "height": 310
    },
    "execution": {
     "iopub.execute_input": "2024-03-31T12:20:08.270708Z",
     "iopub.status.busy": "2024-03-31T12:20:08.270393Z",
     "iopub.status.idle": "2024-03-31T12:20:08.287649Z",
     "shell.execute_reply": "2024-03-31T12:20:08.286626Z",
     "shell.execute_reply.started": "2024-03-31T12:20:08.270682Z"
    },
    "id": "HoJtndwd5HfC",
    "outputId": "ff38ed6e-9f93-42de-abdd-53c6ecec2b9f"
   },
   "outputs": [
    {
     "data": {
      "text/html": [
       "<div>\n",
       "<style scoped>\n",
       "    .dataframe tbody tr th:only-of-type {\n",
       "        vertical-align: middle;\n",
       "    }\n",
       "\n",
       "    .dataframe tbody tr th {\n",
       "        vertical-align: top;\n",
       "    }\n",
       "\n",
       "    .dataframe thead th {\n",
       "        text-align: right;\n",
       "    }\n",
       "</style>\n",
       "<table border=\"1\" class=\"dataframe\">\n",
       "  <thead>\n",
       "    <tr style=\"text-align: right;\">\n",
       "      <th></th>\n",
       "      <th>Unnamed: 0</th>\n",
       "      <th>Title</th>\n",
       "      <th>Poem</th>\n",
       "      <th>Poet</th>\n",
       "      <th>Tags</th>\n",
       "    </tr>\n",
       "  </thead>\n",
       "  <tbody>\n",
       "    <tr>\n",
       "      <th>6</th>\n",
       "      <td>6</td>\n",
       "      <td>\\r\\r\\n                    Invisible Fish\\r\\r\\n...</td>\n",
       "      <td>\\r\\r\\nInvisible fish swim this ghost ocean now...</td>\n",
       "      <td>Joy Harjo</td>\n",
       "      <td>Living,Time &amp; Brevity,Relationships,Family &amp; A...</td>\n",
       "    </tr>\n",
       "    <tr>\n",
       "      <th>7</th>\n",
       "      <td>7</td>\n",
       "      <td>\\r\\r\\n                    Don’t Bother the Ear...</td>\n",
       "      <td>\\r\\r\\nDon’t bother the earth spirit who lives ...</td>\n",
       "      <td>Joy Harjo</td>\n",
       "      <td>Religion,The Spiritual,Mythology &amp; Folklore,Fa...</td>\n",
       "    </tr>\n",
       "    <tr>\n",
       "      <th>9</th>\n",
       "      <td>9</td>\n",
       "      <td>\\r\\r\\n                    [\"Hour in which I co...</td>\n",
       "      <td>\\r\\r\\nHour in which I consider hydrangea, a sa...</td>\n",
       "      <td>Simone White</td>\n",
       "      <td>Living,Parenthood,The Body,The Mind,Nature,Tre...</td>\n",
       "    </tr>\n",
       "    <tr>\n",
       "      <th>16</th>\n",
       "      <td>16</td>\n",
       "      <td>\\r\\r\\n                    scars\\r\\r\\n         ...</td>\n",
       "      <td>\\r\\r\\nmy father’s body is a map\\r\\r\\na record ...</td>\n",
       "      <td>Truong Tran</td>\n",
       "      <td>The Body,Family &amp; Ancestors</td>\n",
       "    </tr>\n",
       "    <tr>\n",
       "      <th>17</th>\n",
       "      <td>17</td>\n",
       "      <td>\\r\\r\\n                    what remains two\\r\\r...</td>\n",
       "      <td>\\r\\r\\nit has long been forgotten this practice...</td>\n",
       "      <td>Truong Tran</td>\n",
       "      <td>Infancy,Parenthood,The Body</td>\n",
       "    </tr>\n",
       "  </tbody>\n",
       "</table>\n",
       "</div>"
      ],
      "text/plain": [
       "    Unnamed: 0                                              Title  \\\n",
       "6            6  \\r\\r\\n                    Invisible Fish\\r\\r\\n...   \n",
       "7            7  \\r\\r\\n                    Don’t Bother the Ear...   \n",
       "9            9  \\r\\r\\n                    [\"Hour in which I co...   \n",
       "16          16  \\r\\r\\n                    scars\\r\\r\\n         ...   \n",
       "17          17  \\r\\r\\n                    what remains two\\r\\r...   \n",
       "\n",
       "                                                 Poem          Poet  \\\n",
       "6   \\r\\r\\nInvisible fish swim this ghost ocean now...     Joy Harjo   \n",
       "7   \\r\\r\\nDon’t bother the earth spirit who lives ...     Joy Harjo   \n",
       "9   \\r\\r\\nHour in which I consider hydrangea, a sa...  Simone White   \n",
       "16  \\r\\r\\nmy father’s body is a map\\r\\r\\na record ...   Truong Tran   \n",
       "17  \\r\\r\\nit has long been forgotten this practice...   Truong Tran   \n",
       "\n",
       "                                                 Tags  \n",
       "6   Living,Time & Brevity,Relationships,Family & A...  \n",
       "7   Religion,The Spiritual,Mythology & Folklore,Fa...  \n",
       "9   Living,Parenthood,The Body,The Mind,Nature,Tre...  \n",
       "16                        The Body,Family & Ancestors  \n",
       "17                        Infancy,Parenthood,The Body  "
      ]
     },
     "execution_count": 2,
     "metadata": {},
     "output_type": "execute_result"
    }
   ],
   "source": [
    "data.head()"
   ]
  },
  {
   "cell_type": "code",
   "execution_count": 3,
   "metadata": {
    "execution": {
     "iopub.execute_input": "2024-03-31T12:20:08.288943Z",
     "iopub.status.busy": "2024-03-31T12:20:08.288668Z",
     "iopub.status.idle": "2024-03-31T12:20:08.295166Z",
     "shell.execute_reply": "2024-03-31T12:20:08.292858Z",
     "shell.execute_reply.started": "2024-03-31T12:20:08.288919Z"
    },
    "id": "jjDvSLiSt6jq"
   },
   "outputs": [],
   "source": [
    "data = data.head(10000)"
   ]
  },
  {
   "cell_type": "markdown",
   "metadata": {
    "id": "iHKh2yEEz8G4"
   },
   "source": [
    "\n",
    "## **Preprocessing steps**\n",
    "\n",
    "Lowercasing: Converts all text to lowercase, ensuring uniformity.\n",
    "\n",
    "Punctuation Removal: Eliminates non-alphanumeric characters and whitespace, such as punctuation marks, to focus on the words.\n",
    "\n",
    "Special Character Removal: Gets rid of specific special characters, like newline characters, for a cleaner text.\n",
    "\n",
    "Tokenization: Splits the text into individual words or tokens, facilitating further analysis.\n",
    "\n",
    "Stopword Removal: Filters out common words (stopwords) that usually do not contribute much to the meaning of the text.\n",
    "\n",
    "Lemmatization: Reduces words to their base or root form, aiding in standardizing different forms of words.\n",
    "\n"
   ]
  },
  {
   "cell_type": "code",
   "execution_count": 4,
   "metadata": {
    "execution": {
     "iopub.execute_input": "2024-03-31T12:20:08.298358Z",
     "iopub.status.busy": "2024-03-31T12:20:08.297966Z",
     "iopub.status.idle": "2024-03-31T12:20:08.303922Z",
     "shell.execute_reply": "2024-03-31T12:20:08.303021Z",
     "shell.execute_reply.started": "2024-03-31T12:20:08.298321Z"
    }
   },
   "outputs": [],
   "source": [
    "import nltk\n",
    "#nltk.download('wordnet')"
   ]
  },
  {
   "cell_type": "code",
   "execution_count": 5,
   "metadata": {
    "execution": {
     "iopub.execute_input": "2024-03-31T12:20:08.305267Z",
     "iopub.status.busy": "2024-03-31T12:20:08.305004Z",
     "iopub.status.idle": "2024-03-31T12:20:09.678101Z",
     "shell.execute_reply": "2024-03-31T12:20:09.676776Z",
     "shell.execute_reply.started": "2024-03-31T12:20:08.305243Z"
    }
   },
   "outputs": [
    {
     "name": "stdout",
     "output_type": "stream",
     "text": [
      "Archive:  /usr/share/nltk_data/corpora/wordnet.zip\n",
      "   creating: /usr/share/nltk_data/corpora/wordnet/\n",
      "  inflating: /usr/share/nltk_data/corpora/wordnet/lexnames  \n",
      "  inflating: /usr/share/nltk_data/corpora/wordnet/data.verb  \n",
      "  inflating: /usr/share/nltk_data/corpora/wordnet/index.adv  \n",
      "  inflating: /usr/share/nltk_data/corpora/wordnet/adv.exc  \n",
      "  inflating: /usr/share/nltk_data/corpora/wordnet/index.verb  \n",
      "  inflating: /usr/share/nltk_data/corpora/wordnet/cntlist.rev  \n",
      "  inflating: /usr/share/nltk_data/corpora/wordnet/data.adj  \n",
      "  inflating: /usr/share/nltk_data/corpora/wordnet/index.adj  \n",
      "  inflating: /usr/share/nltk_data/corpora/wordnet/LICENSE  \n",
      "  inflating: /usr/share/nltk_data/corpora/wordnet/citation.bib  \n",
      "  inflating: /usr/share/nltk_data/corpora/wordnet/noun.exc  \n",
      "  inflating: /usr/share/nltk_data/corpora/wordnet/verb.exc  \n",
      "  inflating: /usr/share/nltk_data/corpora/wordnet/README  \n",
      "  inflating: /usr/share/nltk_data/corpora/wordnet/index.sense  \n",
      "  inflating: /usr/share/nltk_data/corpora/wordnet/data.noun  \n",
      "  inflating: /usr/share/nltk_data/corpora/wordnet/data.adv  \n",
      "  inflating: /usr/share/nltk_data/corpora/wordnet/index.noun  \n",
      "  inflating: /usr/share/nltk_data/corpora/wordnet/adj.exc  \n"
     ]
    }
   ],
   "source": [
    "!unzip /usr/share/nltk_data/corpora/wordnet.zip -d /usr/share/nltk_data/corpora/"
   ]
  },
  {
   "cell_type": "code",
   "execution_count": 6,
   "metadata": {
    "colab": {
     "base_uri": "https://localhost:8080/"
    },
    "execution": {
     "iopub.execute_input": "2024-03-31T12:20:09.680864Z",
     "iopub.status.busy": "2024-03-31T12:20:09.680402Z",
     "iopub.status.idle": "2024-03-31T12:20:11.621946Z",
     "shell.execute_reply": "2024-03-31T12:20:11.620955Z",
     "shell.execute_reply.started": "2024-03-31T12:20:09.680817Z"
    },
    "id": "Xicq4epi3rcr",
    "outputId": "8d1bb977-6cfc-4bef-ad16-852dbbda1abf"
   },
   "outputs": [
    {
     "name": "stdout",
     "output_type": "stream",
     "text": [
      "example sentence special character stopword\n"
     ]
    }
   ],
   "source": [
    "import re\n",
    "from nltk.tokenize import word_tokenize\n",
    "from nltk.corpus import stopwords\n",
    "from nltk.stem import WordNetLemmatizer\n",
    "from nltk.corpus import wordnet \n",
    "\n",
    "\n",
    "def preprocess_text(text):\n",
    "    # Lowercase\n",
    "    text = text.lower()\n",
    "\n",
    "    # Punctuation\n",
    "    text = re.sub(r'[^\\w\\s]', '', text)\n",
    "\n",
    "    # Special characters\n",
    "    text = re.sub(r'[\\r\\n]', '', text)\n",
    "\n",
    "    # Token\n",
    "    tokens = word_tokenize(text)\n",
    "\n",
    "    # Stopwords\n",
    "    stop_words = set(stopwords.words('english'))\n",
    "    filtered_tokens = [word for word in tokens if word.lower() not in stop_words]\n",
    "\n",
    "    # Lemmatize\n",
    "    lemmatizer = WordNetLemmatizer()\n",
    "    lemmatized_tokens = [lemmatizer.lemmatize(word) for word in filtered_tokens]\n",
    "\n",
    "    return ' '.join(lemmatized_tokens)\n",
    "\n",
    "text_to_preprocess = \"This is an example sentence! It has some special characters *&^%$# and stopword.\"\n",
    "processed_text = preprocess_text(text_to_preprocess)\n",
    "print(processed_text)\n",
    "\n"
   ]
  },
  {
   "cell_type": "code",
   "execution_count": 8,
   "metadata": {
    "execution": {
     "iopub.execute_input": "2024-03-31T12:20:11.632650Z",
     "iopub.status.busy": "2024-03-31T12:20:11.632213Z",
     "iopub.status.idle": "2024-03-31T12:20:34.961082Z",
     "shell.execute_reply": "2024-03-31T12:20:34.959982Z",
     "shell.execute_reply.started": "2024-03-31T12:20:11.632611Z"
    },
    "id": "R8UR5qPH3dBL"
   },
   "outputs": [],
   "source": [
    "data['Title'] = data['Title'].apply(preprocess_text)\n",
    "data['Poem'] = data['Poem'].apply(preprocess_text)"
   ]
  },
  {
   "cell_type": "markdown",
   "metadata": {
    "id": "4iC3130z1s5f"
   },
   "source": [
    "## **Embedding Techniques**\n",
    "\n",
    "1. TF-IDF is used for document representation and importance weighting.\n",
    "2. Word2Vec is employed for generating word embeddings and capturing semantic relationships between words.\n",
    "3. CBOW predicts a target word based on its context, useful for tasks that involve understanding the meaning of words in a given context."
   ]
  },
  {
   "cell_type": "markdown",
   "metadata": {
    "id": "Se4gaORN36Su"
   },
   "source": [
    "TF-IDF"
   ]
  },
  {
   "cell_type": "code",
   "execution_count": 9,
   "metadata": {
    "execution": {
     "iopub.execute_input": "2024-03-31T12:20:34.962782Z",
     "iopub.status.busy": "2024-03-31T12:20:34.962434Z",
     "iopub.status.idle": "2024-03-31T12:20:37.349077Z",
     "shell.execute_reply": "2024-03-31T12:20:37.347869Z",
     "shell.execute_reply.started": "2024-03-31T12:20:34.962752Z"
    },
    "id": "BHsG71yE37wV"
   },
   "outputs": [],
   "source": [
    "from sklearn.feature_extraction.text import TfidfVectorizer\n",
    "\n",
    "titles_corpus = data['Title']\n",
    "poems_corpus = data['Poem']\n",
    "\n",
    "tfidf_vectorizer_titles = TfidfVectorizer()\n",
    "tfidf_matrix_titles = tfidf_vectorizer_titles.fit_transform(titles_corpus)\n",
    "\n",
    "tfidf_vectorizer_poems = TfidfVectorizer()\n",
    "tfidf_matrix_poems = tfidf_vectorizer_poems.fit_transform(poems_corpus)"
   ]
  },
  {
   "cell_type": "code",
   "execution_count": 10,
   "metadata": {
    "execution": {
     "iopub.execute_input": "2024-03-31T12:20:37.352659Z",
     "iopub.status.busy": "2024-03-31T12:20:37.352317Z",
     "iopub.status.idle": "2024-03-31T12:20:45.985395Z",
     "shell.execute_reply": "2024-03-31T12:20:45.984330Z",
     "shell.execute_reply.started": "2024-03-31T12:20:37.352629Z"
    },
    "id": "ggv87nuM4Bxh"
   },
   "outputs": [],
   "source": [
    "tfidf_vectors_titles = tfidf_matrix_titles.toarray()\n",
    "tfidf_vectors_poems = tfidf_matrix_poems.toarray()"
   ]
  },
  {
   "cell_type": "code",
   "execution_count": 11,
   "metadata": {
    "colab": {
     "base_uri": "https://localhost:8080/"
    },
    "execution": {
     "iopub.execute_input": "2024-03-31T12:20:45.986882Z",
     "iopub.status.busy": "2024-03-31T12:20:45.986575Z",
     "iopub.status.idle": "2024-03-31T12:20:45.994356Z",
     "shell.execute_reply": "2024-03-31T12:20:45.993258Z",
     "shell.execute_reply.started": "2024-03-31T12:20:45.986855Z"
    },
    "id": "_cS3wCS04wGv",
    "outputId": "37e51e31-25ae-41a3-cc31-6b2212039877"
   },
   "outputs": [
    {
     "data": {
      "text/plain": [
       "array([[0., 0., 0., ..., 0., 0., 0.],\n",
       "       [0., 0., 0., ..., 0., 0., 0.],\n",
       "       [0., 0., 0., ..., 0., 0., 0.],\n",
       "       ...,\n",
       "       [0., 0., 0., ..., 0., 0., 0.],\n",
       "       [0., 0., 0., ..., 0., 0., 0.],\n",
       "       [0., 0., 0., ..., 0., 0., 0.]])"
      ]
     },
     "execution_count": 11,
     "metadata": {},
     "output_type": "execute_result"
    }
   ],
   "source": [
    "tfidf_vectors_titles"
   ]
  },
  {
   "cell_type": "code",
   "execution_count": 12,
   "metadata": {
    "colab": {
     "base_uri": "https://localhost:8080/"
    },
    "execution": {
     "iopub.execute_input": "2024-03-31T12:20:45.996014Z",
     "iopub.status.busy": "2024-03-31T12:20:45.995718Z",
     "iopub.status.idle": "2024-03-31T12:20:46.004901Z",
     "shell.execute_reply": "2024-03-31T12:20:46.003807Z",
     "shell.execute_reply.started": "2024-03-31T12:20:45.995988Z"
    },
    "id": "q_J8A0Tw4xoc",
    "outputId": "5ee70913-8b48-452d-99de-bb475e8b3140"
   },
   "outputs": [
    {
     "data": {
      "text/plain": [
       "array([[0., 0., 0., ..., 0., 0., 0.],\n",
       "       [0., 0., 0., ..., 0., 0., 0.],\n",
       "       [0., 0., 0., ..., 0., 0., 0.],\n",
       "       ...,\n",
       "       [0., 0., 0., ..., 0., 0., 0.],\n",
       "       [0., 0., 0., ..., 0., 0., 0.],\n",
       "       [0., 0., 0., ..., 0., 0., 0.]])"
      ]
     },
     "execution_count": 12,
     "metadata": {},
     "output_type": "execute_result"
    }
   ],
   "source": [
    "tfidf_vectors_poems"
   ]
  },
  {
   "cell_type": "markdown",
   "metadata": {
    "id": "yMpUMZwU3naj"
   },
   "source": [
    "Word2Vec"
   ]
  },
  {
   "cell_type": "code",
   "execution_count": 13,
   "metadata": {
    "colab": {
     "base_uri": "https://localhost:8080/"
    },
    "execution": {
     "iopub.execute_input": "2024-03-31T12:20:46.007244Z",
     "iopub.status.busy": "2024-03-31T12:20:46.006544Z",
     "iopub.status.idle": "2024-03-31T12:21:31.976154Z",
     "shell.execute_reply": "2024-03-31T12:21:31.975215Z",
     "shell.execute_reply.started": "2024-03-31T12:20:46.007203Z"
    },
    "id": "PFxq8DDC8Zah",
    "outputId": "43d4d492-b9c3-4045-bbcd-4f5dd5092df7"
   },
   "outputs": [
    {
     "data": {
      "text/plain": [
       "array([-0.61564875,  0.36760208, -0.35847807, -0.05511908,  0.06266135,\n",
       "       -0.4356819 , -0.26802343,  0.7998006 ,  0.25615156, -0.06543805,\n",
       "       -0.09168253,  0.07666601, -0.0595214 ,  0.05679855, -0.02169015,\n",
       "       -0.8373362 , -0.05697606, -0.2257143 ,  0.13990766, -0.42602637,\n",
       "        0.24868484,  0.30449212,  0.33479708, -0.69590473,  0.08113886,\n",
       "        0.00436677, -0.06490733,  0.24983953, -0.17020184,  0.23872787,\n",
       "        0.9120111 ,  0.1017668 , -0.35379466, -0.2619883 , -0.24904262,\n",
       "        0.72181445, -0.3605565 , -0.12455251, -0.36837575,  0.14135344,\n",
       "        0.13301773,  0.11048333, -0.30372357, -0.35876217,  0.20555161,\n",
       "       -0.33469075, -0.54003876, -0.26559895,  0.59868264, -0.03449059,\n",
       "        0.3437828 , -0.08785414, -0.14583483,  0.02266433, -0.26996124,\n",
       "        0.38437626,  0.4752406 , -0.01350064, -0.3693143 ,  0.01363356,\n",
       "       -0.10463747, -0.12735671,  0.21814272, -0.21503635, -1.280752  ,\n",
       "        1.0079564 , -0.03647245,  0.41894355, -0.55160826,  0.36642304,\n",
       "       -0.31180286,  0.90975875,  0.7864814 ,  0.02240902,  0.31931767,\n",
       "       -0.24785183, -0.05761935, -0.22031166,  0.1561128 ,  0.48164964,\n",
       "       -0.84711397, -0.3042746 , -0.30614355,  0.71568793,  0.23676948,\n",
       "        0.18341582,  0.3579364 ,  0.13195878,  0.6171721 ,  0.302573  ,\n",
       "        0.67404234, -0.42081454,  0.41459596,  0.05431885,  0.3897594 ,\n",
       "        0.89945024, -0.10775471, -0.12452887, -0.5369774 , -0.30139953],\n",
       "      dtype=float32)"
      ]
     },
     "execution_count": 13,
     "metadata": {},
     "output_type": "execute_result"
    }
   ],
   "source": [
    "# Word2Vec\n",
    "from gensim.models import Word2Vec\n",
    "\n",
    "titles_corpus = [word_tokenize(title) for title in data['Title']]\n",
    "poems_corpus = [word_tokenize(poem) for poem in data['Poem']]\n",
    "\n",
    "word2vec_model_titles = Word2Vec(sentences=titles_corpus, vector_size=100, window=5, sg=1, min_count=1)\n",
    "word2vec_model_poems = Word2Vec(sentences=poems_corpus, vector_size=100, window=5, sg=1, min_count=1)\n",
    "\n",
    "vector_word2vec_title = word2vec_model_titles.wv['word']\n",
    "vector_word2vec_poem = word2vec_model_poems.wv['word']\n",
    "\n",
    "vector_word2vec_title\n",
    "\n",
    "vector_word2vec_poem\n"
   ]
  },
  {
   "cell_type": "code",
   "execution_count": 14,
   "metadata": {
    "colab": {
     "base_uri": "https://localhost:8080/"
    },
    "execution": {
     "iopub.execute_input": "2024-03-31T12:21:31.978870Z",
     "iopub.status.busy": "2024-03-31T12:21:31.978139Z",
     "iopub.status.idle": "2024-03-31T12:21:31.987307Z",
     "shell.execute_reply": "2024-03-31T12:21:31.986525Z",
     "shell.execute_reply.started": "2024-03-31T12:21:31.978834Z"
    },
    "id": "JH9sHhGe4WCh",
    "outputId": "9d00ac52-0387-47a7-9fb9-276950e6e822"
   },
   "outputs": [
    {
     "data": {
      "text/plain": [
       "array([-0.00289828,  0.00110666,  0.00292816, -0.00949872,  0.00503818,\n",
       "        0.0011494 ,  0.00049574, -0.00119059, -0.0092072 ,  0.00674964,\n",
       "       -0.00934503, -0.01061274,  0.00420963, -0.00843926, -0.0032115 ,\n",
       "       -0.00325861, -0.00197454, -0.00901859,  0.0034546 , -0.00174992,\n",
       "        0.00506706, -0.00065615,  0.00793798, -0.0104944 ,  0.00496034,\n",
       "       -0.00583619,  0.00030671, -0.00885495, -0.00416814, -0.00609893,\n",
       "       -0.00199617,  0.00990127,  0.00308354,  0.00130481, -0.00628283,\n",
       "        0.00779061, -0.00781189, -0.00356099, -0.00745947, -0.00970036,\n",
       "        0.00292479, -0.00452079,  0.00197807,  0.00467002, -0.00505079,\n",
       "       -0.00187027, -0.00375819, -0.01027027, -0.009268  ,  0.00226196,\n",
       "        0.00503264, -0.00139226, -0.00575167,  0.0037601 ,  0.00096041,\n",
       "       -0.00853467,  0.00783382,  0.00836367, -0.00843945, -0.00081858,\n",
       "        0.00661208, -0.00196113, -0.00076064, -0.00459656,  0.00498381,\n",
       "        0.00842904,  0.00219084, -0.00439652, -0.00322783, -0.00250494,\n",
       "       -0.01117726,  0.00882014,  0.00043858, -0.00104352,  0.00791155,\n",
       "       -0.00817426,  0.00630665, -0.00818653, -0.00684191,  0.00549073,\n",
       "       -0.00463506, -0.00334209, -0.00745878, -0.00167935, -0.00310585,\n",
       "       -0.00396145,  0.00940909,  0.01146358,  0.00168201,  0.00123423,\n",
       "       -0.00420393,  0.00864689, -0.00483842,  0.0065558 ,  0.01178976,\n",
       "        0.00740549, -0.00012565,  0.00445795,  0.00754824, -0.00397223],\n",
       "      dtype=float32)"
      ]
     },
     "execution_count": 14,
     "metadata": {},
     "output_type": "execute_result"
    }
   ],
   "source": [
    "vector_word2vec_title"
   ]
  },
  {
   "cell_type": "code",
   "execution_count": 15,
   "metadata": {
    "colab": {
     "base_uri": "https://localhost:8080/"
    },
    "execution": {
     "iopub.execute_input": "2024-03-31T12:21:31.989888Z",
     "iopub.status.busy": "2024-03-31T12:21:31.988731Z",
     "iopub.status.idle": "2024-03-31T12:21:32.005456Z",
     "shell.execute_reply": "2024-03-31T12:21:32.004378Z",
     "shell.execute_reply.started": "2024-03-31T12:21:31.989851Z"
    },
    "id": "C5VkyUbE4Z64",
    "outputId": "d30c0308-b5c3-4a6e-e3d1-3e1a8afc330f"
   },
   "outputs": [
    {
     "data": {
      "text/plain": [
       "array([-0.61564875,  0.36760208, -0.35847807, -0.05511908,  0.06266135,\n",
       "       -0.4356819 , -0.26802343,  0.7998006 ,  0.25615156, -0.06543805,\n",
       "       -0.09168253,  0.07666601, -0.0595214 ,  0.05679855, -0.02169015,\n",
       "       -0.8373362 , -0.05697606, -0.2257143 ,  0.13990766, -0.42602637,\n",
       "        0.24868484,  0.30449212,  0.33479708, -0.69590473,  0.08113886,\n",
       "        0.00436677, -0.06490733,  0.24983953, -0.17020184,  0.23872787,\n",
       "        0.9120111 ,  0.1017668 , -0.35379466, -0.2619883 , -0.24904262,\n",
       "        0.72181445, -0.3605565 , -0.12455251, -0.36837575,  0.14135344,\n",
       "        0.13301773,  0.11048333, -0.30372357, -0.35876217,  0.20555161,\n",
       "       -0.33469075, -0.54003876, -0.26559895,  0.59868264, -0.03449059,\n",
       "        0.3437828 , -0.08785414, -0.14583483,  0.02266433, -0.26996124,\n",
       "        0.38437626,  0.4752406 , -0.01350064, -0.3693143 ,  0.01363356,\n",
       "       -0.10463747, -0.12735671,  0.21814272, -0.21503635, -1.280752  ,\n",
       "        1.0079564 , -0.03647245,  0.41894355, -0.55160826,  0.36642304,\n",
       "       -0.31180286,  0.90975875,  0.7864814 ,  0.02240902,  0.31931767,\n",
       "       -0.24785183, -0.05761935, -0.22031166,  0.1561128 ,  0.48164964,\n",
       "       -0.84711397, -0.3042746 , -0.30614355,  0.71568793,  0.23676948,\n",
       "        0.18341582,  0.3579364 ,  0.13195878,  0.6171721 ,  0.302573  ,\n",
       "        0.67404234, -0.42081454,  0.41459596,  0.05431885,  0.3897594 ,\n",
       "        0.89945024, -0.10775471, -0.12452887, -0.5369774 , -0.30139953],\n",
       "      dtype=float32)"
      ]
     },
     "execution_count": 15,
     "metadata": {},
     "output_type": "execute_result"
    }
   ],
   "source": [
    "vector_word2vec_poem"
   ]
  },
  {
   "cell_type": "markdown",
   "metadata": {
    "id": "saHWrgJ43Xcf"
   },
   "source": [
    "CBOW"
   ]
  },
  {
   "cell_type": "code",
   "execution_count": 16,
   "metadata": {
    "execution": {
     "iopub.execute_input": "2024-03-31T12:21:32.009442Z",
     "iopub.status.busy": "2024-03-31T12:21:32.009104Z",
     "iopub.status.idle": "2024-03-31T12:21:46.251795Z",
     "shell.execute_reply": "2024-03-31T12:21:46.250646Z",
     "shell.execute_reply.started": "2024-03-31T12:21:32.009402Z"
    },
    "id": "sVQADKbH2wKp"
   },
   "outputs": [],
   "source": [
    "cbow_model_titles = Word2Vec(sentences=titles_corpus, vector_size=100, window=5, sg=0, min_count=1)\n",
    "\n",
    "cbow_model_poems = Word2Vec(sentences=poems_corpus, vector_size=100, window=5, sg=0, min_count=1)\n",
    "\n",
    "vector_cbow_title = cbow_model_titles.wv['word']\n",
    "vector_cbow_poem = cbow_model_poems.wv['word']\n"
   ]
  },
  {
   "cell_type": "code",
   "execution_count": 17,
   "metadata": {
    "colab": {
     "base_uri": "https://localhost:8080/"
    },
    "execution": {
     "iopub.execute_input": "2024-03-31T12:21:46.253483Z",
     "iopub.status.busy": "2024-03-31T12:21:46.253174Z",
     "iopub.status.idle": "2024-03-31T12:21:46.261521Z",
     "shell.execute_reply": "2024-03-31T12:21:46.260525Z",
     "shell.execute_reply.started": "2024-03-31T12:21:46.253454Z"
    },
    "id": "kJZbn6PK3JbE",
    "outputId": "5465eda2-8228-46c0-b1f3-eca7d6d087d8"
   },
   "outputs": [
    {
     "data": {
      "text/plain": [
       "array([-3.2260781e-03,  6.4040173e-04,  2.5771838e-03, -9.1775665e-03,\n",
       "        4.8798267e-03,  2.3725959e-03,  1.4686928e-04, -2.6804151e-03,\n",
       "       -8.0423811e-03,  7.4372762e-03, -9.0459473e-03, -8.8737151e-03,\n",
       "        4.0909424e-03, -8.3050225e-03, -3.2756331e-03, -2.4975738e-03,\n",
       "       -1.7099706e-03, -7.4503943e-03,  4.1964673e-03,  8.1222861e-05,\n",
       "        4.0565673e-03, -1.1789326e-03,  7.4997158e-03, -9.5121777e-03,\n",
       "        5.5554770e-03, -5.0952896e-03,  1.5099003e-03, -7.8000785e-03,\n",
       "       -2.8056395e-03, -6.7042192e-03, -2.8085026e-03,  9.8439623e-03,\n",
       "        2.7494077e-03,  1.6241419e-03, -6.1696600e-03,  6.0504982e-03,\n",
       "       -8.1784856e-03, -2.6467207e-03, -6.8712123e-03, -7.2804946e-03,\n",
       "        2.3560089e-03, -4.4782120e-03,  2.0219772e-03,  3.9527803e-03,\n",
       "       -6.1337915e-03, -1.7406832e-03, -3.2879103e-03, -9.9604158e-03,\n",
       "       -9.6855098e-03,  1.5640835e-03,  4.4717556e-03, -2.5857138e-04,\n",
       "       -5.4426943e-03,  3.5450535e-03,  1.2452372e-03, -9.3290135e-03,\n",
       "        7.5597726e-03,  7.7853827e-03, -8.6018359e-03, -6.2566495e-04,\n",
       "        6.2846746e-03, -2.7892727e-03, -4.4844599e-04, -4.4585974e-03,\n",
       "        5.7740887e-03,  7.4153477e-03,  2.3007982e-03, -4.4523664e-03,\n",
       "       -2.5492101e-03, -3.2355110e-03, -1.0344214e-02,  7.8495294e-03,\n",
       "        9.6624317e-05, -8.9948630e-04,  7.3518544e-03, -8.9163706e-03,\n",
       "        6.1201798e-03, -7.6887896e-03, -5.9161172e-03,  5.3185239e-03,\n",
       "       -4.0065902e-03, -3.7624547e-03, -6.8612294e-03, -3.2014414e-03,\n",
       "       -2.5725081e-03, -4.0900847e-03,  9.7859092e-03,  1.0166497e-02,\n",
       "        3.5907346e-05, -2.1235453e-04, -5.2671051e-03,  8.1508830e-03,\n",
       "       -4.9037100e-03,  6.0022692e-03,  1.0120041e-02,  6.4232438e-03,\n",
       "       -7.4887520e-04,  5.1576351e-03,  6.7719100e-03, -3.6560656e-03],\n",
       "      dtype=float32)"
      ]
     },
     "execution_count": 17,
     "metadata": {},
     "output_type": "execute_result"
    }
   ],
   "source": [
    "vector_cbow_title"
   ]
  },
  {
   "cell_type": "code",
   "execution_count": 18,
   "metadata": {
    "colab": {
     "base_uri": "https://localhost:8080/"
    },
    "execution": {
     "iopub.execute_input": "2024-03-31T12:21:46.263199Z",
     "iopub.status.busy": "2024-03-31T12:21:46.262897Z",
     "iopub.status.idle": "2024-03-31T12:21:46.278830Z",
     "shell.execute_reply": "2024-03-31T12:21:46.277772Z",
     "shell.execute_reply.started": "2024-03-31T12:21:46.263173Z"
    },
    "id": "czrfRUZi3PD6",
    "outputId": "8a671318-0c9c-49cd-ac44-3382f65cf597"
   },
   "outputs": [
    {
     "data": {
      "text/plain": [
       "array([-0.9794445 ,  1.3536996 , -0.14938392, -0.534428  ,  0.84249955,\n",
       "       -2.2010198 ,  0.15351824,  3.4402556 , -0.8292523 , -1.4037759 ,\n",
       "       -0.69861156, -1.4629518 ,  0.15741575,  1.1606286 ,  0.01758538,\n",
       "       -1.8453075 ,  0.17237951, -1.4490883 ,  0.24232948, -2.230654  ,\n",
       "        1.2622486 ,  0.6226575 ,  1.249174  ,  0.31618991,  0.6206465 ,\n",
       "        0.278654  , -1.0792649 , -0.37523973, -1.7318637 ,  0.24850094,\n",
       "        2.6933055 ,  0.735218  , -0.28469485, -1.3954331 , -0.29144117,\n",
       "        1.616018  , -0.27086112, -1.2002989 , -0.49947304, -2.1122627 ,\n",
       "       -0.07801346, -0.9815619 , -0.5807417 , -0.5284042 ,  1.2762492 ,\n",
       "       -1.0242841 , -2.2197843 ,  0.13200691,  0.5349314 ,  0.6007352 ,\n",
       "        0.6579376 , -1.6454868 , -1.0770009 , -0.24198686, -0.9358163 ,\n",
       "        0.11665091,  1.2407091 , -0.31810552, -1.704197  ,  0.03843501,\n",
       "        0.5997982 , -0.1038193 ,  0.47340804, -0.28007522, -2.6818333 ,\n",
       "        1.1520594 ,  0.78172964,  0.65741664, -2.6657627 ,  2.070497  ,\n",
       "       -0.91031784,  0.963092  ,  1.7611814 ,  0.36986443,  1.4346917 ,\n",
       "        0.1807785 , -0.24511957, -0.34584618, -1.1728116 ,  1.3355895 ,\n",
       "       -1.0284793 , -0.32566807, -1.3161582 ,  1.7930986 , -0.3337716 ,\n",
       "       -0.5982069 ,  0.62947583,  1.3801053 ,  1.2389158 ,  0.9991177 ,\n",
       "        1.3457344 , -0.03453258,  1.7379031 , -0.07166918,  1.9420028 ,\n",
       "        2.1211433 ,  1.2379456 , -0.9602313 ,  0.55663747, -0.69457716],\n",
       "      dtype=float32)"
      ]
     },
     "execution_count": 18,
     "metadata": {},
     "output_type": "execute_result"
    }
   ],
   "source": [
    "vector_cbow_poem"
   ]
  },
  {
   "cell_type": "markdown",
   "metadata": {
    "id": "YlurondI3F-o"
   },
   "source": [
    "Visual Representation using word cloud"
   ]
  },
  {
   "cell_type": "code",
   "execution_count": 19,
   "metadata": {
    "colab": {
     "base_uri": "https://localhost:8080/"
    },
    "execution": {
     "iopub.execute_input": "2024-03-31T12:21:46.280711Z",
     "iopub.status.busy": "2024-03-31T12:21:46.280391Z",
     "iopub.status.idle": "2024-03-31T12:21:46.324444Z",
     "shell.execute_reply": "2024-03-31T12:21:46.323656Z",
     "shell.execute_reply.started": "2024-03-31T12:21:46.280684Z"
    },
    "id": "dl0R0524K75Y",
    "outputId": "e1a47118-ba52-4e0f-fe1a-677099261ccd"
   },
   "outputs": [
    {
     "name": "stdout",
     "output_type": "stream",
     "text": [
      "<class 'pandas.core.frame.DataFrame'>\n",
      "Index: 10000 entries, 6 to 10801\n",
      "Data columns (total 5 columns):\n",
      " #   Column      Non-Null Count  Dtype \n",
      "---  ------      --------------  ----- \n",
      " 0   Unnamed: 0  10000 non-null  int64 \n",
      " 1   Title       10000 non-null  object\n",
      " 2   Poem        10000 non-null  object\n",
      " 3   Poet        10000 non-null  object\n",
      " 4   Tags        10000 non-null  object\n",
      "dtypes: int64(1), object(4)\n",
      "memory usage: 468.8+ KB\n"
     ]
    }
   ],
   "source": [
    "data.info()"
   ]
  },
  {
   "cell_type": "code",
   "execution_count": 20,
   "metadata": {
    "execution": {
     "iopub.execute_input": "2024-03-31T12:21:46.326081Z",
     "iopub.status.busy": "2024-03-31T12:21:46.325752Z",
     "iopub.status.idle": "2024-03-31T12:22:05.172378Z",
     "shell.execute_reply": "2024-03-31T12:22:05.171429Z",
     "shell.execute_reply.started": "2024-03-31T12:21:46.326052Z"
    },
    "id": "D57btcm5LcQx"
   },
   "outputs": [],
   "source": [
    "subset_data = data\n",
    "\n",
    "\n",
    "subset_data['Title'] = subset_data['Title'].apply(preprocess_text)\n",
    "subset_data['Poem'] = subset_data['Poem'].apply(preprocess_text)"
   ]
  },
  {
   "cell_type": "code",
   "execution_count": 21,
   "metadata": {
    "colab": {
     "base_uri": "https://localhost:8080/",
     "height": 216,
     "referenced_widgets": [
      "a9c5c1a1c20d416aa83c2b2758934802",
      "8f24dbcc01464f3fb85512edc48270f9",
      "3188f9228b014a4c8d628c97027a9e26",
      "3e7264a6625d4593b9670eb40b4954bb",
      "27a004aa58b24345873b08a5ddd53071"
     ]
    },
    "execution": {
     "iopub.execute_input": "2024-03-31T12:22:05.175077Z",
     "iopub.status.busy": "2024-03-31T12:22:05.174296Z",
     "iopub.status.idle": "2024-03-31T13:00:18.104990Z",
     "shell.execute_reply": "2024-03-31T13:00:18.103887Z",
     "shell.execute_reply.started": "2024-03-31T12:22:05.175038Z"
    },
    "id": "Rvgn7qPuR0mm",
    "outputId": "87abca69-1fed-438e-9970-c417b0dced63"
   },
   "outputs": [
    {
     "data": {
      "application/vnd.jupyter.widget-view+json": {
       "model_id": "b299834eb0884b3eb5d3d269929f536a",
       "version_major": 2,
       "version_minor": 0
      },
      "text/plain": [
       "tokenizer_config.json:   0%|          | 0.00/48.0 [00:00<?, ?B/s]"
      ]
     },
     "metadata": {},
     "output_type": "display_data"
    },
    {
     "data": {
      "application/vnd.jupyter.widget-view+json": {
       "model_id": "13d02594032c49d1a857600e6de4ecdb",
       "version_major": 2,
       "version_minor": 0
      },
      "text/plain": [
       "vocab.txt:   0%|          | 0.00/232k [00:00<?, ?B/s]"
      ]
     },
     "metadata": {},
     "output_type": "display_data"
    },
    {
     "data": {
      "application/vnd.jupyter.widget-view+json": {
       "model_id": "bb39b2e329ae42fdb630847ac82641a3",
       "version_major": 2,
       "version_minor": 0
      },
      "text/plain": [
       "tokenizer.json:   0%|          | 0.00/466k [00:00<?, ?B/s]"
      ]
     },
     "metadata": {},
     "output_type": "display_data"
    },
    {
     "data": {
      "application/vnd.jupyter.widget-view+json": {
       "model_id": "94839eff7f5841169eee4b9a13964afd",
       "version_major": 2,
       "version_minor": 0
      },
      "text/plain": [
       "config.json:   0%|          | 0.00/570 [00:00<?, ?B/s]"
      ]
     },
     "metadata": {},
     "output_type": "display_data"
    },
    {
     "data": {
      "application/vnd.jupyter.widget-view+json": {
       "model_id": "d8eaf0988e4740a0b524589723fc4271",
       "version_major": 2,
       "version_minor": 0
      },
      "text/plain": [
       "model.safetensors:   0%|          | 0.00/440M [00:00<?, ?B/s]"
      ]
     },
     "metadata": {},
     "output_type": "display_data"
    },
    {
     "name": "stderr",
     "output_type": "stream",
     "text": [
      "Token indices sequence length is longer than the specified maximum sequence length for this model (620 > 512). Running this sequence through the model will result in indexing errors\n",
      "100%|██████████| 10000/10000 [00:00<00:00, 1839687.71it/s]\n"
     ]
    },
    {
     "data": {
      "text/html": [
       "<div>\n",
       "<style scoped>\n",
       "    .dataframe tbody tr th:only-of-type {\n",
       "        vertical-align: middle;\n",
       "    }\n",
       "\n",
       "    .dataframe tbody tr th {\n",
       "        vertical-align: top;\n",
       "    }\n",
       "\n",
       "    .dataframe thead th {\n",
       "        text-align: right;\n",
       "    }\n",
       "</style>\n",
       "<table border=\"1\" class=\"dataframe\">\n",
       "  <thead>\n",
       "    <tr style=\"text-align: right;\">\n",
       "      <th></th>\n",
       "      <th>Unnamed: 0</th>\n",
       "      <th>Title</th>\n",
       "      <th>Poem</th>\n",
       "      <th>Poet</th>\n",
       "      <th>Tags</th>\n",
       "      <th>Poem_bert</th>\n",
       "    </tr>\n",
       "  </thead>\n",
       "  <tbody>\n",
       "    <tr>\n",
       "      <th>6</th>\n",
       "      <td>6</td>\n",
       "      <td>invisible fish</td>\n",
       "      <td>invisible fish swim ghost ocean described wave...</td>\n",
       "      <td>Joy Harjo</td>\n",
       "      <td>Living,Time &amp; Brevity,Relationships,Family &amp; A...</td>\n",
       "      <td>[-0.070620015, -0.012272737, 0.1761645, -0.166...</td>\n",
       "    </tr>\n",
       "    <tr>\n",
       "      <th>7</th>\n",
       "      <td>7</td>\n",
       "      <td>dont bother earth spirit</td>\n",
       "      <td>dont bother earth spirit life working story ol...</td>\n",
       "      <td>Joy Harjo</td>\n",
       "      <td>Religion,The Spiritual,Mythology &amp; Folklore,Fa...</td>\n",
       "      <td>[-0.108606495, -0.01237058, 0.26703766, -0.105...</td>\n",
       "    </tr>\n",
       "  </tbody>\n",
       "</table>\n",
       "</div>"
      ],
      "text/plain": [
       "   Unnamed: 0                     Title  \\\n",
       "6           6            invisible fish   \n",
       "7           7  dont bother earth spirit   \n",
       "\n",
       "                                                Poem       Poet  \\\n",
       "6  invisible fish swim ghost ocean described wave...  Joy Harjo   \n",
       "7  dont bother earth spirit life working story ol...  Joy Harjo   \n",
       "\n",
       "                                                Tags  \\\n",
       "6  Living,Time & Brevity,Relationships,Family & A...   \n",
       "7  Religion,The Spiritual,Mythology & Folklore,Fa...   \n",
       "\n",
       "                                           Poem_bert  \n",
       "6  [-0.070620015, -0.012272737, 0.1761645, -0.166...  \n",
       "7  [-0.108606495, -0.01237058, 0.26703766, -0.105...  "
      ]
     },
     "metadata": {},
     "output_type": "display_data"
    }
   ],
   "source": [
    "import torch\n",
    "import numpy as np\n",
    "from transformers import BertTokenizer, BertModel\n",
    "from tqdm import tqdm\n",
    "import pandas as pd\n",
    "\n",
    "class BertSequenceVectorizer:\n",
    "    def __init__(self):\n",
    "        self.device = 'cuda' if torch.cuda.is_available() else 'cpu'\n",
    "\n",
    "        self.model_name = 'bert-base-uncased'  \n",
    "\n",
    "        self.tokenizer = BertTokenizer.from_pretrained(self.model_name)\n",
    "\n",
    "        self.bert_model = BertModel.from_pretrained(self.model_name)\n",
    "        self.bert_model = self.bert_model.to(self.device)\n",
    "\n",
    "        self.max_len = 128\n",
    "\n",
    "    def vectorize(self, sentence: str) -> np.array:\n",
    "        inp = self.tokenizer.encode(sentence, add_special_tokens=True)\n",
    "        len_inp = len(inp)\n",
    "\n",
    "        if len_inp >= self.max_len:\n",
    "            inputs = inp[:self.max_len]\n",
    "            masks = [1] * self.max_len\n",
    "        else:\n",
    "            inputs = inp + [0] * (self.max_len - len_inp)\n",
    "            masks = [1] * len_inp + [0] * (self.max_len - len_inp)\n",
    "\n",
    "        inputs_tensor = torch.tensor([inputs], dtype=torch.long).to(self.device)\n",
    "        masks_tensor = torch.tensor([masks], dtype=torch.long).to(self.device)\n",
    "\n",
    "        with torch.no_grad():\n",
    "            bert_out = self.bert_model(inputs_tensor, masks_tensor)\n",
    "            seq_out, pooled_out = bert_out.last_hidden_state, bert_out.pooler_output\n",
    "\n",
    "        if torch.cuda.is_available():\n",
    "            return seq_out[0][0].cpu().detach().numpy()\n",
    "        else:\n",
    "            return seq_out[0][0].detach().numpy()\n",
    "\n",
    "BSV = BertSequenceVectorizer()\n",
    "\n",
    "data['Poem_bert'] = tqdm(data['Poem'].apply(lambda x: BSV.vectorize(x)))\n",
    "\n",
    "display(data[0:2])\n"
   ]
  },
  {
   "cell_type": "code",
   "execution_count": 22,
   "metadata": {
    "execution": {
     "iopub.execute_input": "2024-03-31T13:00:18.107794Z",
     "iopub.status.busy": "2024-03-31T13:00:18.106466Z",
     "iopub.status.idle": "2024-03-31T13:38:30.460186Z",
     "shell.execute_reply": "2024-03-31T13:38:30.458991Z",
     "shell.execute_reply.started": "2024-03-31T13:00:18.107753Z"
    },
    "id": "WQ7bJcWjSPQ1"
   },
   "outputs": [],
   "source": [
    "import torch\n",
    "import numpy as np\n",
    "from transformers import BertTokenizer, BertModel\n",
    "from tqdm import tqdm\n",
    "import pandas as pd\n",
    "from sklearn.model_selection import train_test_split \n",
    "from sklearn.linear_model import Ridge\n",
    "from sklearn.metrics import mean_squared_error\n",
    "\n",
    "data['Poem_bert'] = data['Poem'].apply(lambda x: BSV.vectorize(x))\n",
    "\n",
    "X_train, X_test, y_train, y_test = train_test_split(data['Poem_bert'], data['Title'], test_size=0.2, random_state=42)"
   ]
  },
  {
   "cell_type": "code",
   "execution_count": 23,
   "metadata": {
    "colab": {
     "base_uri": "https://localhost:8080/"
    },
    "execution": {
     "iopub.execute_input": "2024-03-31T13:38:30.462138Z",
     "iopub.status.busy": "2024-03-31T13:38:30.461714Z",
     "iopub.status.idle": "2024-03-31T14:59:01.173154Z",
     "shell.execute_reply": "2024-03-31T14:59:01.171700Z",
     "shell.execute_reply.started": "2024-03-31T13:38:30.462100Z"
    },
    "id": "59syeFVkTGMb",
    "outputId": "8660a9e9-8cfe-47cc-facc-8fd2e61d0f58"
   },
   "outputs": [
    {
     "name": "stdout",
     "output_type": "stream",
     "text": [
      "Predicted Title: poem\n"
     ]
    }
   ],
   "source": [
    "from sklearn.linear_model import LogisticRegression\n",
    "from sklearn.preprocessing import LabelEncoder\n",
    "\n",
    "label_encoder = LabelEncoder()\n",
    "y_train_encoded = label_encoder.fit_transform(y_train)\n",
    "\n",
    "\n",
    "logistic_model = LogisticRegression(max_iter=1000)  # Increase max_iter\n",
    "logistic_model.fit(list(X_train), y_train_encoded)\n",
    "\n",
    "new_poem = \"Brian If you knew who I was now When I knew who you were then Would you forgive me before We ever became them? \"\n",
    "vectorized_poem = BSV.vectorize(new_poem)\n",
    "\n",
    "predicted_title_encoded = logistic_model.predict([vectorized_poem] )[0]\n",
    "predicted_title = label_encoder.inverse_transform([predicted_title_encoded])[0]\n",
    "print(\"Predicted Title:\", predicted_title)\n"
   ]
  },
  {
   "cell_type": "code",
   "execution_count": 30,
   "metadata": {
    "execution": {
     "iopub.execute_input": "2024-03-31T15:16:01.491908Z",
     "iopub.status.busy": "2024-03-31T15:16:01.491362Z",
     "iopub.status.idle": "2024-03-31T15:16:01.741189Z",
     "shell.execute_reply": "2024-03-31T15:16:01.740005Z",
     "shell.execute_reply.started": "2024-03-31T15:16:01.491874Z"
    }
   },
   "outputs": [
    {
     "name": "stdout",
     "output_type": "stream",
     "text": [
      "Predicted Title: selfportrait\n"
     ]
    }
   ],
   "source": [
    "new_poem = \"think I've seen this film before And I didn't like the ending You're not my homeland anymore So what am I defending now? You were my town Now I'm in exile, seein' you out I think I've seen this film before\"\n",
    "vectorized_poem = BSV.vectorize(new_poem)\n",
    "\n",
    "predicted_title_encoded = logistic_model.predict([vectorized_poem])[0]\n",
    "predicted_title = label_encoder.inverse_transform([predicted_title_encoded])[0]\n",
    "print(\"Predicted Title:\", predicted_title)\n"
   ]
  },
  {
   "cell_type": "code",
   "execution_count": 29,
   "metadata": {
    "execution": {
     "iopub.execute_input": "2024-03-31T15:15:16.275290Z",
     "iopub.status.busy": "2024-03-31T15:15:16.274457Z",
     "iopub.status.idle": "2024-03-31T15:15:16.524370Z",
     "shell.execute_reply": "2024-03-31T15:15:16.523214Z",
     "shell.execute_reply.started": "2024-03-31T15:15:16.275256Z"
    }
   },
   "outputs": [
    {
     "name": "stdout",
     "output_type": "stream",
     "text": [
      "Predicted Title: garden love\n"
     ]
    }
   ],
   "source": [
    "new_poem = \"Matches burn after the other Leaves turn and stick to each other Wages earned and lessons learned But I, I'm right where you left me. Wind in my hair\"\n",
    "vectorized_poem = BSV.vectorize(new_poem)\n",
    "\n",
    "predicted_title_encoded = logistic_model.predict([vectorized_poem])[0]\n",
    "predicted_title = label_encoder.inverse_transform([predicted_title_encoded])[0]\n",
    "print(\"Predicted Title:\", predicted_title)"
   ]
  },
  {
   "cell_type": "code",
   "execution_count": 31,
   "metadata": {
    "execution": {
     "iopub.execute_input": "2024-03-31T15:19:00.610632Z",
     "iopub.status.busy": "2024-03-31T15:19:00.610107Z",
     "iopub.status.idle": "2024-03-31T15:19:00.858330Z",
     "shell.execute_reply": "2024-03-31T15:19:00.857182Z",
     "shell.execute_reply.started": "2024-03-31T15:19:00.610596Z"
    }
   },
   "outputs": [
    {
     "name": "stdout",
     "output_type": "stream",
     "text": [
      "Predicted Title: prayer\n"
     ]
    }
   ],
   "source": [
    "new_poem =\"It is thy desire in us that desireth. It is thy urge in us that would turn our nights, which are thine, into days which are thine also. \"\n",
    "vectorized_poem = BSV.vectorize(new_poem)\n",
    "\n",
    "predicted_title_encoded = logistic_model.predict([vectorized_poem])[0]\n",
    "predicted_title = label_encoder.inverse_transform([predicted_title_encoded])[0]\n",
    "print(\"Predicted Title:\", predicted_title)\n"
   ]
  },
  {
   "cell_type": "code",
   "execution_count": 32,
   "metadata": {
    "execution": {
     "iopub.execute_input": "2024-03-31T15:20:21.843781Z",
     "iopub.status.busy": "2024-03-31T15:20:21.843316Z",
     "iopub.status.idle": "2024-03-31T15:20:22.096103Z",
     "shell.execute_reply": "2024-03-31T15:20:22.094773Z",
     "shell.execute_reply.started": "2024-03-31T15:20:21.843747Z"
    }
   },
   "outputs": [
    {
     "name": "stdout",
     "output_type": "stream",
     "text": [
      "Predicted Title: wedding hymn\n"
     ]
    }
   ],
   "source": [
    "new_poem = \"Ah Sun-flower! weary of time, Who countest the steps of the Sun: Seeking after that sweet golden clime Where the travellers journey is done.\"\n",
    "vectorized_poem = BSV.vectorize(new_poem)\n",
    "\n",
    "predicted_title_encoded = logistic_model.predict([vectorized_poem])[0]\n",
    "predicted_title = label_encoder.inverse_transform([predicted_title_encoded])[0]\n",
    "print(\"Predicted Title:\", predicted_title)\n"
   ]
  },
  {
   "cell_type": "code",
   "execution_count": 36,
   "metadata": {
    "execution": {
     "iopub.execute_input": "2024-03-31T15:33:13.043381Z",
     "iopub.status.busy": "2024-03-31T15:33:13.042921Z",
     "iopub.status.idle": "2024-03-31T15:33:13.306654Z",
     "shell.execute_reply": "2024-03-31T15:33:13.305422Z",
     "shell.execute_reply.started": "2024-03-31T15:33:13.043349Z"
    }
   },
   "outputs": [
    {
     "name": "stdout",
     "output_type": "stream",
     "text": [
      "Predicted Title: vulnerary\n"
     ]
    }
   ],
   "source": [
    "new_poem = \"The sea is calm tonight. The tide is full, the moon lies fair Upon the straits; on the French coast the light Gleams and is gone; the cliffs of England stand, Glimmering and vast, out in the tranquil bay.\"\n",
    "vectorized_poem = BSV.vectorize(new_poem)\n",
    "\n",
    "predicted_title_encoded = logistic_model.predict([vectorized_poem])[0]\n",
    "predicted_title = label_encoder.inverse_transform([predicted_title_encoded])[0]\n",
    "print(\"Predicted Title:\", predicted_title)\n"
   ]
  },
  {
   "cell_type": "code",
   "execution_count": 38,
   "metadata": {
    "execution": {
     "iopub.execute_input": "2024-03-31T15:43:11.851049Z",
     "iopub.status.busy": "2024-03-31T15:43:11.850631Z",
     "iopub.status.idle": "2024-03-31T15:43:11.858545Z",
     "shell.execute_reply": "2024-03-31T15:43:11.857352Z",
     "shell.execute_reply.started": "2024-03-31T15:43:11.851015Z"
    }
   },
   "outputs": [
    {
     "name": "stdout",
     "output_type": "stream",
     "text": [
      "Directory created successfully: ./saved_bert_model\n"
     ]
    }
   ],
   "source": [
    "import os\n",
    "\n",
    "\n",
    "output_dir = \"./saved_bert_model\"\n",
    "\n",
    "\n",
    "if not os.path.exists(output_dir):\n",
    "    os.makedirs(output_dir)\n",
    "\n",
    "print(\"Directory created successfully:\", output_dir)\n"
   ]
  },
  {
   "cell_type": "code",
   "execution_count": 39,
   "metadata": {
    "execution": {
     "iopub.execute_input": "2024-03-31T15:43:33.809859Z",
     "iopub.status.busy": "2024-03-31T15:43:33.808686Z",
     "iopub.status.idle": "2024-03-31T15:43:35.503803Z",
     "shell.execute_reply": "2024-03-31T15:43:35.502611Z",
     "shell.execute_reply.started": "2024-03-31T15:43:33.809809Z"
    }
   },
   "outputs": [
    {
     "name": "stdout",
     "output_type": "stream",
     "text": [
      "Model and tokenizer saved successfully to: ./saved_bert_model\n"
     ]
    }
   ],
   "source": [
    "\n",
    "from transformers import BertTokenizer, BertModel\n",
    "\n",
    "\n",
    "output_dir = \"./saved_bert_model\"\n",
    "\n",
    "\n",
    "if not os.path.exists(output_dir):\n",
    "    os.makedirs(output_dir)\n",
    "\n",
    "# Save the tokenizer\n",
    "tokenizer = BertTokenizer.from_pretrained('bert-base-uncased')\n",
    "tokenizer.save_pretrained(output_dir)\n",
    "\n",
    "\n",
    "model = BertModel.from_pretrained('bert-base-uncased')\n",
    "model.save_pretrained(output_dir)\n",
    "\n",
    "print(\"Model and tokenizer saved successfully to:\", output_dir)\n"
   ]
  },
  {
   "cell_type": "code",
   "execution_count": 41,
   "metadata": {
    "execution": {
     "iopub.execute_input": "2024-03-31T15:47:52.455223Z",
     "iopub.status.busy": "2024-03-31T15:47:52.454765Z",
     "iopub.status.idle": "2024-03-31T15:47:52.464198Z",
     "shell.execute_reply": "2024-03-31T15:47:52.462981Z",
     "shell.execute_reply.started": "2024-03-31T15:47:52.455191Z"
    }
   },
   "outputs": [
    {
     "data": {
      "text/html": [
       "<a href='saved_bert_model.zip' target='_blank'>saved_bert_model.zip</a><br>"
      ],
      "text/plain": [
       "/kaggle/working/saved_bert_model.zip"
      ]
     },
     "execution_count": 41,
     "metadata": {},
     "output_type": "execute_result"
    }
   ],
   "source": [
    "from IPython.display import FileLink\n",
    "\n",
    "FileLink(r'saved_bert_model.zip')\n"
   ]
  }
 ],
 "metadata": {
  "colab": {
   "provenance": []
  },
  "kaggle": {
   "accelerator": "none",
   "dataSources": [
    {
     "datasetId": 236282,
     "sourceId": 502516,
     "sourceType": "datasetVersion"
    }
   ],
   "dockerImageVersionId": 30673,
   "isGpuEnabled": false,
   "isInternetEnabled": true,
   "language": "python",
   "sourceType": "notebook"
  },
  "kernelspec": {
   "display_name": "Python 3 (ipykernel)",
   "language": "python",
   "name": "python3"
  },
  "language_info": {
   "codemirror_mode": {
    "name": "ipython",
    "version": 3
   },
   "file_extension": ".py",
   "mimetype": "text/x-python",
   "name": "python",
   "nbconvert_exporter": "python",
   "pygments_lexer": "ipython3",
   "version": "3.9.18"
  }
 },
 "nbformat": 4,
 "nbformat_minor": 4
}
