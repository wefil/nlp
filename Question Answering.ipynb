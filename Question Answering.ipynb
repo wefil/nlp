{
 "cells": [
  {
   "cell_type": "raw",
   "id": "51213a4b",
   "metadata": {},
   "source": [
    "# BUILD A QUESTION ANSWERING SYSTEM that understands the structure of a question by determining the parts of speech of words in a question and their relationship with pther words to extract the answer"
   ]
  },
  {
   "cell_type": "code",
   "execution_count": null,
   "id": "d15ed340",
   "metadata": {},
   "outputs": [],
   "source": [
    "!python -m pip install spacy\n",
    "!python -m spacy download en_core_web_sm"
   ]
  },
  {
   "cell_type": "code",
   "execution_count": 4,
   "id": "ce027f41",
   "metadata": {},
   "outputs": [
    {
     "name": "stdout",
     "output_type": "stream",
     "text": [
      "Entities: [('the United States', 'GPE')]\n",
      "Noun Chunks: ['Who', 'the president', 'the United States']\n",
      "Dependency Tree: [('Who', 'attr', 'is'), ('is', 'ROOT', 'is'), ('the', 'det', 'president'), ('president', 'nsubj', 'is'), ('of', 'prep', 'president'), ('the', 'det', 'States'), ('United', 'compound', 'States'), ('States', 'pobj', 'of'), ('?', 'punct', 'is')]\n",
      "Relevant Documents: ['The president of the United States is Joe Biden.', 'Joe Biden currently holds the position of president.', 'The United States is led by Joe Biden.']\n",
      "Answer: The president of the United States is Joe Biden.\n"
     ]
    }
   ],
   "source": [
    "import spacy\n",
    "\n",
    "# Load SpaCy model\n",
    "nlp = spacy.load(\"en_core_web_sm\")\n",
    "\n",
    "# Example question\n",
    "question = \"Who is the president of the United States?\"\n",
    "\n",
    "# Tokenize and parse the question\n",
    "doc = nlp(question)\n",
    "\n",
    "# Extract relevant entities\n",
    "entities = [(ent.text, ent.label_) for ent in doc.ents]\n",
    "print(\"Entities:\", entities)\n",
    "\n",
    "# Extract noun chunks\n",
    "noun_chunks = [chunk.text for chunk in doc.noun_chunks]\n",
    "print(\"Noun Chunks:\", noun_chunks)\n",
    "\n",
    "# Dependency parsing\n",
    "dependency_tree = [(token.text, token.dep_, token.head.text) for token in doc]\n",
    "print(\"Dependency Tree:\", dependency_tree)\n",
    "\n",
    "# Information retrieval (mock example)\n",
    "corpus = [\n",
    "    \"The president of the United States is Joe Biden.\",\n",
    "    \"Joe Biden currently holds the position of president.\",\n",
    "    \"The United States is led by Joe Biden.\",\n",
    "]\n",
    "\n",
    "# Tokenize and parse documents\n",
    "parsed_corpus = [nlp(doc) for doc in corpus]\n",
    "\n",
    "# Retrieve relevant documents based on keyword matching\n",
    "relevant_docs = [doc.text for doc in parsed_corpus if any(token.text.lower() in doc.text.lower() for token in doc)]\n",
    "print(\"Relevant Documents:\", relevant_docs)\n",
    "\n",
    "# Answer extraction\n",
    "answer = None\n",
    "for doc in relevant_docs:\n",
    "    if \"president\" in doc.lower():\n",
    "        answer = doc\n",
    "        break\n",
    "\n",
    "print(\"Answer:\", answer)\n"
   ]
  }
 ],
 "metadata": {
  "kernelspec": {
   "display_name": "Python 3 (ipykernel)",
   "language": "python",
   "name": "python3"
  },
  "language_info": {
   "codemirror_mode": {
    "name": "ipython",
    "version": 3
   },
   "file_extension": ".py",
   "mimetype": "text/x-python",
   "name": "python",
   "nbconvert_exporter": "python",
   "pygments_lexer": "ipython3",
   "version": "3.9.7"
  }
 },
 "nbformat": 4,
 "nbformat_minor": 5
}
